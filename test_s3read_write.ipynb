{
	"metadata": {
		"kernelspec": {
			"name": "glue_pyspark",
			"display_name": "Glue PySpark",
			"language": "python"
		},
		"language_info": {
			"name": "Python_Glue_Session",
			"mimetype": "text/x-python",
			"codemirror_mode": {
				"name": "python",
				"version": 3
			},
			"pygments_lexer": "python3",
			"file_extension": ".py"
		}
	},
	"nbformat_minor": 4,
	"nbformat": 4,
	"cells": [
		{
			"cell_type": "markdown",
			"source": "# AWS Glue Studio Notebook\n##### You are now running a AWS Glue Studio notebook; To start using your notebook you need to start an AWS Glue Interactive Session.\n",
			"metadata": {
				"editable": true,
				"trusted": true
			}
		},
		{
			"cell_type": "markdown",
			"source": "#### Optional: Run this cell to see available notebook commands (\"magics\").\n",
			"metadata": {
				"editable": true,
				"trusted": true
			}
		},
		{
			"cell_type": "code",
			"source": "%help",
			"metadata": {
				"trusted": true,
				"editable": true
			},
			"execution_count": null,
			"outputs": []
		},
		{
			"cell_type": "markdown",
			"source": "####  Run this cell to set up and start your interactive session.\n",
			"metadata": {
				"editable": true,
				"trusted": true
			}
		},
		{
			"cell_type": "code",
			"source": "%idle_timeout 2880\n%glue_version 3.0\n%worker_type G.1X\n%number_of_workers 5\n\nimport sys\nfrom awsglue.transforms import *\nfrom awsglue.utils import getResolvedOptions\nfrom pyspark.context import SparkContext\nfrom awsglue.context import GlueContext\nfrom awsglue.job import Job\n  \nsc = SparkContext.getOrCreate()\nglueContext = GlueContext(sc)\nspark = glueContext.spark_session\njob = Job(glueContext)",
			"metadata": {
				"trusted": true,
				"editable": true
			},
			"execution_count": 1,
			"outputs": [
				{
					"name": "stdout",
					"text": "Welcome to the Glue Interactive Sessions Kernel\nFor more information on available magic commands, please type %help in any new cell.\n\nPlease view our Getting Started page to access the most up-to-date information on the Interactive Sessions kernel: https://docs.aws.amazon.com/glue/latest/dg/interactive-sessions.html\nInstalled kernel version: 0.38.1 \nCurrent idle_timeout is 2800 minutes.\nidle_timeout has been set to 2880 minutes.\nSetting Glue version to: 3.0\nPrevious worker type: G.1X\nSetting new worker type to: G.1X\nPrevious number of workers: 5\nSetting new number of workers to: 5\nAuthenticating with environment variables and user-defined glue_role_arn: arn:aws:iam::113506796683:role/awsglueFullRole\nTrying to create a Glue session for the kernel.\nWorker Type: G.1X\nNumber of Workers: 5\nSession ID: be4a8fb4-21a8-483d-a6d0-d1c53c5712a3\nJob Type: glueetl\nApplying the following default arguments:\n--glue_kernel_version 0.38.1\n--enable-glue-datacatalog true\nWaiting for session be4a8fb4-21a8-483d-a6d0-d1c53c5712a3 to get into ready status...\nSession be4a8fb4-21a8-483d-a6d0-d1c53c5712a3 has been created.\n\n",
					"output_type": "stream"
				}
			]
		},
		{
			"cell_type": "code",
			"source": "inventory_table=glueContext.create_dynamic_frame.from_options(connection_type=\"s3\",\n                                                              connection_options={\"paths\":['s3://python-demo-bucket737860/highestprices.csv']},\n                                                              format=\"csv\", format_options={\"withHeader\":True, \"optimizePerformace\":True})",
			"metadata": {
				"trusted": true,
				"editable": true
			},
			"execution_count": 2,
			"outputs": [
				{
					"name": "stdout",
					"text": "\n",
					"output_type": "stream"
				}
			]
		},
		{
			"cell_type": "code",
			"source": "inventory_table.printSchema()",
			"metadata": {
				"trusted": true,
				"tags": []
			},
			"execution_count": 3,
			"outputs": [
				{
					"name": "stdout",
					"text": "root\n|-- prod_id: string\n|-- name: string\n|-- price: string\n|-- stock: string\n|-- type: string\n",
					"output_type": "stream"
				}
			]
		},
		{
			"cell_type": "code",
			"source": "inventory_table.show()",
			"metadata": {
				"trusted": true,
				"tags": []
			},
			"execution_count": 4,
			"outputs": [
				{
					"name": "stdout",
					"text": "{\"prod_id\": \"1014\", \"name\": \"android watch\", \"price\": \"9988.0\", \"stock\": \"3\", \"type\": \"ELECTRONIC\"}\n{\"prod_id\": \"1015\", \"name\": \"sony wf 1000 xm4\", \"price\": \"20999.0\", \"stock\": \"7\", \"type\": \"ELECTRONIC\"}\n{\"prod_id\": \"1016\", \"name\": \"sony wh 1000xm4\", \"price\": \"19999.0\", \"stock\": \"2\", \"type\": \"ELECTRONIC\"}\n{\"prod_id\": \"1017\", \"name\": \"mac\", \"price\": \"9999.0\", \"stock\": \"5\", \"type\": \"ELECTRONIC\"}\n",
					"output_type": "stream"
				}
			]
		},
		{
			"cell_type": "code",
			"source": "inventory_table.toDF().show()",
			"metadata": {
				"trusted": true,
				"tags": []
			},
			"execution_count": 5,
			"outputs": [
				{
					"name": "stdout",
					"text": "+-------+----------------+-------+-----+----------+\n|prod_id|            name|  price|stock|      type|\n+-------+----------------+-------+-----+----------+\n|   1014|   android watch| 9988.0|    3|ELECTRONIC|\n|   1015|sony wf 1000 xm4|20999.0|    7|ELECTRONIC|\n|   1016| sony wh 1000xm4|19999.0|    2|ELECTRONIC|\n|   1017|             mac| 9999.0|    5|ELECTRONIC|\n+-------+----------------+-------+-----+----------+\n",
					"output_type": "stream"
				}
			]
		},
		{
			"cell_type": "code",
			"source": "from awsglue.transforms import Map\nfrom awsglue.dynamicframe import DynamicFrame\n\ndef double_stock(record):\n    record[\"new_stock\"]=int(record[\"stock\"])*2\n    return record\n\nnew_dyf=Map.apply(frame=inventory_table, f=double_stock)",
			"metadata": {
				"trusted": true,
				"tags": []
			},
			"execution_count": 9,
			"outputs": [
				{
					"name": "stdout",
					"text": "\n",
					"output_type": "stream"
				}
			]
		},
		{
			"cell_type": "code",
			"source": "new_dyf.toDF().show()",
			"metadata": {
				"trusted": true,
				"tags": []
			},
			"execution_count": 10,
			"outputs": [
				{
					"name": "stdout",
					"text": "+-------+-------+----------+---------+----------------+-----+\n|prod_id|  price|      type|new_stock|            name|stock|\n+-------+-------+----------+---------+----------------+-----+\n|   1014| 9988.0|ELECTRONIC|        6|   android watch|    3|\n|   1015|20999.0|ELECTRONIC|       14|sony wf 1000 xm4|    7|\n|   1016|19999.0|ELECTRONIC|        4| sony wh 1000xm4|    2|\n|   1017| 9999.0|ELECTRONIC|       10|             mac|    5|\n+-------+-------+----------+---------+----------------+-----+\n",
					"output_type": "stream"
				}
			]
		},
		{
			"cell_type": "code",
			"source": "type(new_dyf)",
			"metadata": {
				"trusted": true,
				"tags": []
			},
			"execution_count": 11,
			"outputs": [
				{
					"name": "stdout",
					"text": "<class 'awsglue.dynamicframe.DynamicFrame'>\n",
					"output_type": "stream"
				}
			]
		},
		{
			"cell_type": "code",
			"source": "new_dyf.printSchema()",
			"metadata": {
				"trusted": true,
				"tags": []
			},
			"execution_count": 13,
			"outputs": [
				{
					"name": "stdout",
					"text": "root\n|-- prod_id: string\n|-- price: string\n|-- type: string\n|-- new_stock: int\n|-- name: string\n|-- stock: string\n",
					"output_type": "stream"
				}
			]
		},
		{
			"cell_type": "code",
			"source": "glueContext.write_dynamic_frame.from_options(frame=new_dyf,\n                                            connection_type=\"s3\",\n                                            connection_options={\"path\":\"s3://gluetest-1bucket\"},\n                                            format=\"csv\", \n                                            format_options={\"withHeader\":True, \"optimizePerformace\":True, \"seperator\": \",\"},\n                                            transformation_ctx=\"datauploaded\")",
			"metadata": {
				"trusted": true,
				"tags": []
			},
			"execution_count": 12,
			"outputs": [
				{
					"name": "stdout",
					"text": "<awsglue.dynamicframe.DynamicFrame object at 0x7f9bed28f8d0>\n",
					"output_type": "stream"
				}
			]
		}
	]
}